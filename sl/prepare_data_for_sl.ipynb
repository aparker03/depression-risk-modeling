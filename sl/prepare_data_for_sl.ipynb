{
 "cells": [
  {
   "cell_type": "markdown",
   "id": "0ea2223b-1545-471c-8987-9f9c8f4c0dcf",
   "metadata": {},
   "source": [
    "# Preparing Data for Supervised Learning\n",
    "\n",
    "This notebook creates a version of `merged_clean.csv` specifically prepared for supervised modeling. The output file is saved as `merged_clean_sl.csv` in the `data/clean/` directory.\n",
    "\n",
    "Steps performed:\n",
    "\n",
    "- Recoded yes/no fields into binary values\n",
    "- Converted insurance coverage variables to binary flags\n",
    "- Dropped columns that were completely missing\n",
    "- Recoded gender for modeling use\n",
    "- Converted relevant columns from float to integer (e.g., binary, ordinal, and count-based fields like age and household size)\n",
    "\n",
    "This version avoids one-hot encoding and keeps variables in a format that supports model interpretability while maintaining a clean structure for training classifiers or regressors.\n"
   ]
  },
  {
   "cell_type": "code",
   "execution_count": 2,
   "id": "c0bb98d4-d207-4be6-bfbf-5be1b48d9f40",
   "metadata": {},
   "outputs": [
    {
     "name": "stdout",
     "output_type": "stream",
     "text": [
      "../data/clean/merged_clean_sl.csv saved successfully.\n"
     ]
    }
   ],
   "source": [
    "import pandas as pd\n",
    "import os\n",
    "\n",
    "# Load cleaned dataset\n",
    "df = pd.read_csv(\"../data/clean/merged_clean.csv\")\n",
    "\n",
    "# Recode binary yes/no variables: 1 = yes, 2 or blank = no\n",
    "binary_vars = [\n",
    "    'Covered by health insurance',\n",
    "    'Time when no insurance in past year?',\n",
    "    'Routine place to go for healthcare',\n",
    "    'Past 12 months had video conf w/Dr?',\n",
    "    'Seen mental health professional/past yr'\n",
    "]\n",
    "\n",
    "for col in binary_vars:\n",
    "    df[col] = df[col].map({1: 1, 2: 0})\n",
    "\n",
    "# Recode insurance type variables: filled = 1, blank = 0\n",
    "insurance_cols = [\n",
    "    'Covered by private insurance',\n",
    "    'Covered by Medicare',\n",
    "    'Covered by Medi-Gap',\n",
    "    'Covered by Medicaid',\n",
    "    'Covered by CHIP',\n",
    "    'Covered by military health care',\n",
    "    'Covered by state-sponsored health plan',\n",
    "    'Covered by other government insurance'\n",
    "]\n",
    "\n",
    "for col in insurance_cols:\n",
    "    df[col] = df[col].notna().astype(int)\n",
    "\n",
    "# Recode gender: 1 = male becomes 0, 2 = female becomes 1\n",
    "df['Gender'] = df['Gender'].map({1: 0, 2: 1})\n",
    "\n",
    "# Drop fully missing or unused columns\n",
    "df = df.drop(columns=['Covered by CHIP', 'Covered by other government insurance'], errors='ignore')\n",
    "\n",
    "# Convert selected columns from float to int\n",
    "columns_to_convert = binary_vars + insurance_cols + [\n",
    "    'Gender',\n",
    "    'Education level - Adults 20+',\n",
    "    'Difficulty these problems have caused',\n",
    "    'Difficulty with self-care',\n",
    "    'How often feel worried/nervous/anxious',\n",
    "    'Level of feeling worried/nervous/anxious',\n",
    "    'Type place most often go for healthcare',\n",
    "    'Age in years at screening',\n",
    "    'Total number of people in the Household'\n",
    "]\n",
    "\n",
    "for col in columns_to_convert:\n",
    "    if col in df.columns:\n",
    "        df[col] = df[col].fillna(0).astype(int)\n",
    "\n",
    "# Save output\n",
    "output_path = \"../data/clean/merged_clean_sl.csv\"\n",
    "os.makedirs(os.path.dirname(output_path), exist_ok=True)\n",
    "df.to_csv(output_path, index=False)\n",
    "\n",
    "print(f\"{output_path} saved successfully.\")\n"
   ]
  },
  {
   "cell_type": "code",
   "execution_count": null,
   "id": "44e15566-2e13-4ddf-a50e-fab9a1ea9134",
   "metadata": {},
   "outputs": [],
   "source": []
  }
 ],
 "metadata": {
  "kernelspec": {
   "display_name": "Python 3 (ipykernel)",
   "language": "python",
   "name": "python3"
  },
  "language_info": {
   "codemirror_mode": {
    "name": "ipython",
    "version": 3
   },
   "file_extension": ".py",
   "mimetype": "text/x-python",
   "name": "python",
   "nbconvert_exporter": "python",
   "pygments_lexer": "ipython3",
   "version": "3.12.7"
  }
 },
 "nbformat": 4,
 "nbformat_minor": 5
}
