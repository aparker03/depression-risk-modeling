{
 "cells": [
  {
   "cell_type": "markdown",
   "id": "d664f0d7-930e-4980-8d7b-ab18e7ecfa65",
   "metadata": {},
   "source": [
    "# NHANES 2021–2023: Download and Conversion\n",
    "\n",
    "## Overview\n",
    "\n",
    "This notebook prepares selected modules from the 2021–2023 National Health and Nutrition Examination Survey (NHANES) for analysis. The process includes downloading `.xpt` files from the [CDC NHANES Questionnaire Data](https://wwwn.cdc.gov/nchs/nhanes/search/datapage.aspx?Component=Questionnaire&Cycle=2021-2023), converting them to `.csv`, and merging them by respondent ID (`SEQN`). A cleaned dataset is then created by filtering for adult participants who completed both the interview and physical exam, removing invalid codes, and retaining relevant variables.\n",
    "\n",
    "## Modules Included\n",
    "\n",
    "| File Code | Description                                |\n",
    "|-----------|--------------------------------------------|\n",
    "| DEMO_L    | Demographics                               |\n",
    "| DPQ_L     | Depression Screener (PHQ-9)                |\n",
    "| FNQ_L     | Functioning Limitations                    |\n",
    "| HIQ_L     | Health Insurance                           |\n",
    "| HUQ_L     | Hospital Utilization and Access to Care    |\n",
    "| INQ_L     | Income and Financial Support               |\n",
    "| SLQ_L     | Sleep Disorders                            |\n",
    "\n",
    "The resulting files will support unsupervised and supervised modeling tasks.\n"
   ]
  },
  {
   "cell_type": "code",
   "execution_count": 1,
   "id": "b01e1af9-cbb7-4966-a129-44d11b8b36f6",
   "metadata": {},
   "outputs": [],
   "source": [
    "# Import libraries and set up folder paths\n",
    "import os\n",
    "import pandas as pd\n",
    "import numpy as np\n",
    "import requests\n",
    "from io import BytesIO\n",
    "from tqdm import tqdm\n",
    "import pyreadstat\n",
    "\n",
    "# Define folder paths\n",
    "raw_path = os.path.join(\"data\", \"raw\")\n",
    "clean_path = os.path.join(\"data\", \"clean\")\n",
    "\n",
    "# Create folders if they don’t exist\n",
    "os.makedirs(raw_path, exist_ok=True)\n",
    "os.makedirs(clean_path, exist_ok=True)"
   ]
  },
  {
   "cell_type": "markdown",
   "id": "1e167336-4df6-4b98-afdb-5c1fcf22a340",
   "metadata": {},
   "source": [
    "## Download and Convert NHANES Modules\n",
    "\n",
    "This step downloads selected NHANES 2021–2023 questionnaire modules in `.xpt` format and converts them to `.csv` for easier inspection and merging. Converted files are saved to `data/raw/`.\n"
   ]
  },
  {
   "cell_type": "code",
   "execution_count": 2,
   "id": "20e6236a-926d-474d-80b0-815ddf84a32c",
   "metadata": {},
   "outputs": [
    {
     "name": "stderr",
     "output_type": "stream",
     "text": [
      "Processing files:  14%|█▍        | 1/7 [00:01<00:10,  1.73s/it]"
     ]
    },
    {
     "name": "stdout",
     "output_type": "stream",
     "text": [
      "Saved DEMO_L.csv (Demographics)\n"
     ]
    },
    {
     "name": "stderr",
     "output_type": "stream",
     "text": [
      "Processing files:  29%|██▊       | 2/7 [00:02<00:05,  1.14s/it]"
     ]
    },
    {
     "name": "stdout",
     "output_type": "stream",
     "text": [
      "Saved DPQ_L.csv (Depression Screener)\n"
     ]
    },
    {
     "name": "stderr",
     "output_type": "stream",
     "text": [
      "Processing files:  43%|████▎     | 3/7 [00:03<00:04,  1.01s/it]"
     ]
    },
    {
     "name": "stdout",
     "output_type": "stream",
     "text": [
      "Saved FNQ_L.csv (Functioning)\n"
     ]
    },
    {
     "name": "stderr",
     "output_type": "stream",
     "text": [
      "Processing files:  57%|█████▋    | 4/7 [00:03<00:02,  1.29it/s]"
     ]
    },
    {
     "name": "stdout",
     "output_type": "stream",
     "text": [
      "Saved HIQ_L.csv (Health Insurance)\n"
     ]
    },
    {
     "name": "stderr",
     "output_type": "stream",
     "text": [
      "Processing files:  71%|███████▏  | 5/7 [00:04<00:01,  1.61it/s]"
     ]
    },
    {
     "name": "stdout",
     "output_type": "stream",
     "text": [
      "Saved HUQ_L.csv (Hospital Utilization and Access to Care)\n"
     ]
    },
    {
     "name": "stderr",
     "output_type": "stream",
     "text": [
      "Processing files:  86%|████████▌ | 6/7 [00:04<00:00,  1.93it/s]"
     ]
    },
    {
     "name": "stdout",
     "output_type": "stream",
     "text": [
      "Saved INQ_L.csv (Income)\n"
     ]
    },
    {
     "name": "stderr",
     "output_type": "stream",
     "text": [
      "Processing files: 100%|██████████| 7/7 [00:04<00:00,  1.49it/s]"
     ]
    },
    {
     "name": "stdout",
     "output_type": "stream",
     "text": [
      "Saved SLQ_L.csv (Sleep Disorders)\n"
     ]
    },
    {
     "name": "stderr",
     "output_type": "stream",
     "text": [
      "\n"
     ]
    }
   ],
   "source": [
    "# Base URL for NHANES 2021–2023 Questionnaire Data\n",
    "base_url = \"https://wwwn.cdc.gov/Nchs/Data/Nhanes/Public/2021/DataFiles/\"\n",
    "\n",
    "# File codes and descriptions for selected modules\n",
    "files = {\n",
    "    \"DEMO_L\": \"Demographics\",\n",
    "    \"DPQ_L\": \"Depression Screener\",\n",
    "    \"FNQ_L\": \"Functioning\",\n",
    "    \"HIQ_L\": \"Health Insurance\",\n",
    "    \"HUQ_L\": \"Hospital Utilization and Access to Care\",\n",
    "    \"INQ_L\": \"Income\",\n",
    "    \"SLQ_L\": \"Sleep Disorders\"\n",
    "}\n",
    "\n",
    "# Loop through each file, download and convert to CSV\n",
    "for file_code, description in tqdm(files.items(), desc=\"Processing files\"):\n",
    "    try:\n",
    "        url = f\"{base_url}{file_code}.xpt\"\n",
    "        response = requests.get(url)\n",
    "        response.raise_for_status()\n",
    "\n",
    "        # Convert .xpt to DataFrame\n",
    "        df = pd.read_sas(BytesIO(response.content), format=\"xport\", encoding=\"utf-8\")\n",
    "\n",
    "        # Save as CSV\n",
    "        output_path = os.path.join(raw_path, f\"{file_code}.csv\")\n",
    "        df.to_csv(output_path, index=False)\n",
    "\n",
    "        print(f\"Saved {file_code}.csv ({description})\")\n",
    "\n",
    "    except Exception as e:\n",
    "        print(f\"Error processing {file_code}: {e}\")\n"
   ]
  },
  {
   "cell_type": "code",
   "execution_count": 3,
   "id": "92fdf980-884b-4c31-9498-52b0473bf3c4",
   "metadata": {},
   "outputs": [],
   "source": [
    "import os\n",
    "import pandas as pd\n",
    "import pyreadstat\n",
    "import requests\n",
    "import numpy as np\n",
    "from io import BytesIO\n",
    "from tqdm import tqdm\n",
    "\n",
    "# Define output directories\n",
    "raw_path = os.path.join(\"data\", \"raw\")\n",
    "clean_path = os.path.join(\"data\", \"clean\")\n",
    "\n",
    "# Create directories if they do not already exist\n",
    "os.makedirs(raw_path, exist_ok=True)\n",
    "os.makedirs(clean_path, exist_ok=True)\n"
   ]
  },
  {
   "cell_type": "markdown",
   "id": "bf572cd5-e3c5-45f1-9b08-6f73ec64e1bb",
   "metadata": {},
   "source": [
    "## Merge Raw Modules by SEQN\n",
    "\n",
    "This step reads the converted `.csv` files from `data/raw/`, merges them using the respondent identifier `SEQN`, and saves the combined dataset to `data/raw/merged.csv`. This merged file serves as the starting point for filtering and cleaning in later steps.\n"
   ]
  },
  {
   "cell_type": "code",
   "execution_count": 4,
   "id": "9c63a5f5-e7a8-44b2-b184-868cbb2af939",
   "metadata": {},
   "outputs": [
    {
     "name": "stdout",
     "output_type": "stream",
     "text": [
      "Merged dataset saved to data\\raw\\merged.csv\n"
     ]
    }
   ],
   "source": [
    "# Load and merge all selected modules using SEQN as the key\n",
    "merged_df = None\n",
    "\n",
    "for file_code in files.keys():\n",
    "    file_path = os.path.join(raw_path, f\"{file_code}.csv\")\n",
    "    if os.path.exists(file_path):\n",
    "        df = pd.read_csv(file_path, dtype={\"SEQN\": str})  # Ensure SEQN stays string\n",
    "        if merged_df is None:\n",
    "            merged_df = df\n",
    "        else:\n",
    "            merged_df = pd.merge(merged_df, df, on=\"SEQN\", how=\"outer\")\n",
    "    else:\n",
    "        print(f\"Warning: {file_code}.csv not found.\")\n",
    "\n",
    "# Save the merged file to raw directory\n",
    "merged_output_path = os.path.join(raw_path, \"merged.csv\")\n",
    "merged_df.to_csv(merged_output_path, index=False)\n",
    "print(f\"Merged dataset saved to {merged_output_path}\")\n"
   ]
  },
  {
   "cell_type": "markdown",
   "id": "3f988b3b-036d-4f05-a2ac-3ff63bab250e",
   "metadata": {},
   "source": [
    "## Clean and Filter Merged Dataset\n",
    "\n",
    "Filters the merged dataset to retain only adult respondents (age 18+) who completed both the interview and physical exam. Placeholder values and common nonresponse codes are removed. Irrelevant or redundant columns from the Demographics, Functioning, Hospital Utilization, Income, and Sleep modules are dropped. Remaining columns are renamed using a structured, module-based mapping to improve clarity. The respondent identifier (`SEQN`) is also removed prior to modeling.\n"
   ]
  },
  {
   "cell_type": "code",
   "execution_count": 5,
   "id": "03982455-af42-4180-916e-d475e1bb3cda",
   "metadata": {},
   "outputs": [],
   "source": [
    "# Load merged dataset\n",
    "merged_path = os.path.join(raw_path, \"merged.csv\")\n",
    "df = pd.read_csv(merged_path, dtype={\"SEQN\": str})\n",
    "\n",
    "# Replace placeholder float with NaN\n",
    "placeholder = 5.397605346934028e-79\n",
    "df.replace(placeholder, np.nan, inplace=True)\n",
    "\n",
    "# Keep only adult respondents (18+) who completed both interview and physical exam\n",
    "df = df[(df[\"RIDAGEYR\"] >= 18) & (df[\"RIDSTATR\"] == 2)]\n",
    "\n",
    "# Remove common invalid response codes\n",
    "invalid_vals = [7, 9, 77, 99]\n",
    "for col in df.columns:\n",
    "    if df[col].dtype in [np.int64, np.float64]:\n",
    "        df = df[~df[col].isin(invalid_vals)]"
   ]
  },
  {
   "cell_type": "code",
   "execution_count": 6,
   "id": "cd865dd1-3804-4010-b5fa-fe2cde2d8b03",
   "metadata": {},
   "outputs": [],
   "source": [
    "# Drop variables not used in modeling\n",
    "drop_cols = [\n",
    "    # Functioning (FNQ_L)\n",
    "    \"FNQ021\", \"FNQ041\", \"FNQ050\", \"FNQ060\", \"FNQ080\", \"FNQ100\", \"FNQ110\", \"FNQ120\",\n",
    "    \"FNQ130\", \"FNQ140\", \"FNQ150\", \"FNQ160\", \"FNQ170\", \"FNQ180\", \"FNQ190\", \"FNQ200\",\n",
    "    \"FNQ410\", \"FNQ430\", \"FNQ440\", \"FNQ450\", \"FNQ460\", \"FNQ480\", \"FNQ490\", \"FNQ530\", \"FNQ540\",\n",
    "    \"FNDADI\", \"FNDAEDI\", \"FNDCDI\",\n",
    "\n",
    "    # Hospital Utilization (HUQ_L)\n",
    "    \"HUQ010\", \"HUQ085\",\n",
    "\n",
    "    # Income (INQ_L)\n",
    "    \"INQ300\", \"IND310\", \"INDFMMPC\", \"INDFMPIR\",\n",
    "\n",
    "    # Sleep (SLQ_L)\n",
    "    \"SLQ300\", \"SLQ310\", \"SLQ320\", \"SLQ330\",\n",
    "\n",
    "    # Demographics (DEMO_L)\n",
    "    \"WTMEC2YR\", \"WTINT2YR\", \"SDMVSTRA\", \"SDMVPSU\", \"DMDMARTZ\", \"RIDEXPRG\", \"RIDEXMON\",\n",
    "    \"RIDEXAGM\", \"RIDRETH1\", \"RIDRETH3\", \"RIDAGEMN\", \"SDDSRVYR\", \"DMQMILIZ\", \"DMDBORN4\",\n",
    "    \"DMDYRUSR\", \"DMDHRGND\", \"DMDHRAGZ\", \"DMDHREDZ\", \"DMDHRMAZ\", \"DMDHSEDZ\", \"RIDSTATR\",\n",
    "\n",
    "    # Identifier\n",
    "    \"SEQN\"\n",
    "]\n",
    "df.drop(columns=[col for col in drop_cols if col in df.columns], inplace=True)"
   ]
  },
  {
   "cell_type": "code",
   "execution_count": 7,
   "id": "41df1ccd-d199-46d0-8920-2b3743b07740",
   "metadata": {},
   "outputs": [],
   "source": [
    "# Rename retained columns using module-based mapping\n",
    "column_mapping = {\n",
    "    # Demographics (DEMO_L)\n",
    "    \"DMDHHSIZ\": \"Total number of people in the Household\",\n",
    "    \"DMDEDUC2\": \"Education level - Adults 20+\",\n",
    "    \"RIAGENDR\": \"Gender\",\n",
    "    \"RIDAGEYR\": \"Age in years at screening\",\n",
    "\n",
    "    # Functioning (FNQ_L)\n",
    "    \"FNQ470\": \"Difficulty with self-care\",\n",
    "    \"FNQ510\": \"How often feel worried/nervous/anxious\",\n",
    "    \"FNQ520\": \"Level of feeling worried/nervous/anxious\",\n",
    "\n",
    "    # Hospital Utilization and Access to Care (HUQ_L)\n",
    "    \"HUQ030\": \"Routine place to go for healthcare\",\n",
    "    \"HUQ042\": \"Type place most often go for healthcare\",\n",
    "    \"HUQ055\": \"Past 12 months had video conf w/Dr?\",\n",
    "    \"HUQ090\": \"Seen mental health professional/past yr\",\n",
    "\n",
    "    # Health Insurance (HIQ_L)\n",
    "    \"HIQ011\": \"Covered by health insurance\",\n",
    "    \"HIQ032A\": \"Covered by private insurance\",\n",
    "    \"HIQ032B\": \"Covered by Medicare\",\n",
    "    \"HIQ032C\": \"Covered by Medi-Gap\",\n",
    "    \"HIQ032D\": \"Covered by Medicaid\",\n",
    "    \"HIQ032E\": \"Covered by CHIP\",\n",
    "    \"HIQ032F\": \"Covered by military health care\",\n",
    "    \"HIQ032H\": \"Covered by state-sponsored health plan\",\n",
    "    \"HIQ032I\": \"Covered by other government insurance\",\n",
    "    \"HIQ210\": \"Time when no insurance in past year?\",\n",
    "\n",
    "    # Income (INQ_L)\n",
    "    \"INDFMMPI\": \"Monthly poverty index\",\n",
    "\n",
    "    # Sleep Disorders (SLQ_L)\n",
    "    \"SLD012\": \"Sleep hours - weekdays or workdays\",\n",
    "    \"SLD013\": \"Sleep hours - weekends\"\n",
    "}\n",
    "df.rename(columns=column_mapping, inplace=True)"
   ]
  },
  {
   "cell_type": "markdown",
   "id": "308983d0-e03d-43bd-ac15-59b7bf4b20e8",
   "metadata": {},
   "source": [
    "### Compute PHQ-9 Total Score\n",
    "\n",
    "The Patient Health Questionnaire (PHQ-9) assesses depression severity using 9 items: `DPQ010` through `DPQ090`. A total score is computed only if at least 6 of the 9 items are valid (responses between 0 and 3). This section filters for those cases, calculates the total score, and drops the individual PHQ-9 items afterward. The remaining item, `DPQ100`, is renamed for clarity.\n"
   ]
  },
  {
   "cell_type": "code",
   "execution_count": 8,
   "id": "303e48c8-01a5-4e82-bf12-4884c94e6990",
   "metadata": {},
   "outputs": [],
   "source": [
    "# Define PHQ-9 item columns\n",
    "phq9_items = [\n",
    "    \"DPQ010\", \"DPQ020\", \"DPQ030\", \"DPQ040\", \"DPQ050\",\n",
    "    \"DPQ060\", \"DPQ070\", \"DPQ080\", \"DPQ090\"\n",
    "]\n",
    "\n",
    "# Identify valid responses (0–3) and count how many are answered per row\n",
    "valid_mask = df[phq9_items].isin([0, 1, 2, 3])\n",
    "valid_counts = valid_mask.sum(axis=1)\n",
    "\n",
    "# Keep only rows with at least 6 valid PHQ-9 responses\n",
    "df = df[valid_counts >= 6].copy()\n",
    "\n",
    "# Set invalid responses to NaN before scoring\n",
    "df.loc[:, phq9_items] = df[phq9_items].where(valid_mask)\n",
    "\n",
    "# Compute PHQ-9 total score\n",
    "df[\"PHQ9_TOTAL\"] = df[phq9_items].sum(axis=1)\n",
    "\n",
    "# Drop the individual PHQ-9 items\n",
    "df.drop(columns=phq9_items, inplace=True)\n",
    "\n",
    "# Rename the functional impairment item for clarity\n",
    "df.rename(columns={\n",
    "    \"DPQ100\": \"Difficulty these problems have caused\"\n",
    "}, inplace=True)\n"
   ]
  },
  {
   "cell_type": "markdown",
   "id": "a6e4c2d4-c5d1-4872-a388-2060e5b81024",
   "metadata": {},
   "source": [
    "### Validate Cleaned Dataset\n",
    "\n",
    "This final check confirms the dataset is ready for modeling. It includes a shape check and a review of missing values to ensure no structural issues remain before export.\n"
   ]
  },
  {
   "cell_type": "code",
   "execution_count": 9,
   "id": "84e37df6-cdf9-4de6-af84-818406572794",
   "metadata": {},
   "outputs": [
    {
     "name": "stdout",
     "output_type": "stream",
     "text": [
      "Final dataset shape: (467, 26)\n"
     ]
    },
    {
     "data": {
      "text/html": [
       "<div>\n",
       "<style scoped>\n",
       "    .dataframe tbody tr th:only-of-type {\n",
       "        vertical-align: middle;\n",
       "    }\n",
       "\n",
       "    .dataframe tbody tr th {\n",
       "        vertical-align: top;\n",
       "    }\n",
       "\n",
       "    .dataframe thead th {\n",
       "        text-align: right;\n",
       "    }\n",
       "</style>\n",
       "<table border=\"1\" class=\"dataframe\">\n",
       "  <thead>\n",
       "    <tr style=\"text-align: right;\">\n",
       "      <th></th>\n",
       "      <th>Gender</th>\n",
       "      <th>Age in years at screening</th>\n",
       "      <th>Education level - Adults 20+</th>\n",
       "      <th>Total number of people in the Household</th>\n",
       "      <th>Difficulty these problems have caused</th>\n",
       "      <th>Difficulty with self-care</th>\n",
       "      <th>How often feel worried/nervous/anxious</th>\n",
       "      <th>Level of feeling worried/nervous/anxious</th>\n",
       "      <th>Covered by health insurance</th>\n",
       "      <th>Covered by private insurance</th>\n",
       "      <th>...</th>\n",
       "      <th>Covered by other government insurance</th>\n",
       "      <th>Time when no insurance in past year?</th>\n",
       "      <th>Routine place to go for healthcare</th>\n",
       "      <th>Type place most often go for healthcare</th>\n",
       "      <th>Past 12 months had video conf w/Dr?</th>\n",
       "      <th>Seen mental health professional/past yr</th>\n",
       "      <th>Monthly poverty index</th>\n",
       "      <th>Sleep hours - weekdays or workdays</th>\n",
       "      <th>Sleep hours - weekends</th>\n",
       "      <th>PHQ9_TOTAL</th>\n",
       "    </tr>\n",
       "  </thead>\n",
       "  <tbody>\n",
       "    <tr>\n",
       "      <th>13</th>\n",
       "      <td>2.0</td>\n",
       "      <td>33.0</td>\n",
       "      <td>3.0</td>\n",
       "      <td>3.0</td>\n",
       "      <td>2.0</td>\n",
       "      <td>1.0</td>\n",
       "      <td>1.0</td>\n",
       "      <td>2.0</td>\n",
       "      <td>1.0</td>\n",
       "      <td>NaN</td>\n",
       "      <td>...</td>\n",
       "      <td>NaN</td>\n",
       "      <td>2.0</td>\n",
       "      <td>1.0</td>\n",
       "      <td>1.0</td>\n",
       "      <td>2.0</td>\n",
       "      <td>2.0</td>\n",
       "      <td>0.94</td>\n",
       "      <td>7.5</td>\n",
       "      <td>7.5</td>\n",
       "      <td>24.0</td>\n",
       "    </tr>\n",
       "    <tr>\n",
       "      <th>19</th>\n",
       "      <td>2.0</td>\n",
       "      <td>67.0</td>\n",
       "      <td>3.0</td>\n",
       "      <td>2.0</td>\n",
       "      <td>NaN</td>\n",
       "      <td>1.0</td>\n",
       "      <td>1.0</td>\n",
       "      <td>3.0</td>\n",
       "      <td>1.0</td>\n",
       "      <td>1.0</td>\n",
       "      <td>...</td>\n",
       "      <td>NaN</td>\n",
       "      <td>2.0</td>\n",
       "      <td>1.0</td>\n",
       "      <td>1.0</td>\n",
       "      <td>2.0</td>\n",
       "      <td>2.0</td>\n",
       "      <td>3.28</td>\n",
       "      <td>8.0</td>\n",
       "      <td>8.0</td>\n",
       "      <td>8.0</td>\n",
       "    </tr>\n",
       "    <tr>\n",
       "      <th>48</th>\n",
       "      <td>1.0</td>\n",
       "      <td>67.0</td>\n",
       "      <td>1.0</td>\n",
       "      <td>1.0</td>\n",
       "      <td>1.0</td>\n",
       "      <td>2.0</td>\n",
       "      <td>1.0</td>\n",
       "      <td>2.0</td>\n",
       "      <td>2.0</td>\n",
       "      <td>NaN</td>\n",
       "      <td>...</td>\n",
       "      <td>NaN</td>\n",
       "      <td>NaN</td>\n",
       "      <td>1.0</td>\n",
       "      <td>1.0</td>\n",
       "      <td>2.0</td>\n",
       "      <td>2.0</td>\n",
       "      <td>NaN</td>\n",
       "      <td>6.0</td>\n",
       "      <td>6.0</td>\n",
       "      <td>11.0</td>\n",
       "    </tr>\n",
       "    <tr>\n",
       "      <th>79</th>\n",
       "      <td>2.0</td>\n",
       "      <td>38.0</td>\n",
       "      <td>5.0</td>\n",
       "      <td>1.0</td>\n",
       "      <td>1.0</td>\n",
       "      <td>1.0</td>\n",
       "      <td>1.0</td>\n",
       "      <td>3.0</td>\n",
       "      <td>1.0</td>\n",
       "      <td>1.0</td>\n",
       "      <td>...</td>\n",
       "      <td>NaN</td>\n",
       "      <td>2.0</td>\n",
       "      <td>1.0</td>\n",
       "      <td>1.0</td>\n",
       "      <td>1.0</td>\n",
       "      <td>1.0</td>\n",
       "      <td>5.00</td>\n",
       "      <td>8.5</td>\n",
       "      <td>13.5</td>\n",
       "      <td>14.0</td>\n",
       "    </tr>\n",
       "    <tr>\n",
       "      <th>218</th>\n",
       "      <td>2.0</td>\n",
       "      <td>66.0</td>\n",
       "      <td>4.0</td>\n",
       "      <td>4.0</td>\n",
       "      <td>1.0</td>\n",
       "      <td>1.0</td>\n",
       "      <td>1.0</td>\n",
       "      <td>2.0</td>\n",
       "      <td>2.0</td>\n",
       "      <td>NaN</td>\n",
       "      <td>...</td>\n",
       "      <td>NaN</td>\n",
       "      <td>NaN</td>\n",
       "      <td>2.0</td>\n",
       "      <td>NaN</td>\n",
       "      <td>2.0</td>\n",
       "      <td>2.0</td>\n",
       "      <td>NaN</td>\n",
       "      <td>6.0</td>\n",
       "      <td>8.0</td>\n",
       "      <td>8.0</td>\n",
       "    </tr>\n",
       "  </tbody>\n",
       "</table>\n",
       "<p>5 rows × 26 columns</p>\n",
       "</div>"
      ],
      "text/plain": [
       "     Gender  Age in years at screening  Education level - Adults 20+  \\\n",
       "13      2.0                       33.0                           3.0   \n",
       "19      2.0                       67.0                           3.0   \n",
       "48      1.0                       67.0                           1.0   \n",
       "79      2.0                       38.0                           5.0   \n",
       "218     2.0                       66.0                           4.0   \n",
       "\n",
       "     Total number of people in the Household  \\\n",
       "13                                       3.0   \n",
       "19                                       2.0   \n",
       "48                                       1.0   \n",
       "79                                       1.0   \n",
       "218                                      4.0   \n",
       "\n",
       "     Difficulty these problems have caused  Difficulty with self-care  \\\n",
       "13                                     2.0                        1.0   \n",
       "19                                     NaN                        1.0   \n",
       "48                                     1.0                        2.0   \n",
       "79                                     1.0                        1.0   \n",
       "218                                    1.0                        1.0   \n",
       "\n",
       "     How often feel worried/nervous/anxious  \\\n",
       "13                                      1.0   \n",
       "19                                      1.0   \n",
       "48                                      1.0   \n",
       "79                                      1.0   \n",
       "218                                     1.0   \n",
       "\n",
       "     Level of feeling worried/nervous/anxious  Covered by health insurance  \\\n",
       "13                                        2.0                          1.0   \n",
       "19                                        3.0                          1.0   \n",
       "48                                        2.0                          2.0   \n",
       "79                                        3.0                          1.0   \n",
       "218                                       2.0                          2.0   \n",
       "\n",
       "     Covered by private insurance  ...  Covered by other government insurance  \\\n",
       "13                            NaN  ...                                    NaN   \n",
       "19                            1.0  ...                                    NaN   \n",
       "48                            NaN  ...                                    NaN   \n",
       "79                            1.0  ...                                    NaN   \n",
       "218                           NaN  ...                                    NaN   \n",
       "\n",
       "     Time when no insurance in past year?  Routine place to go for healthcare  \\\n",
       "13                                    2.0                                 1.0   \n",
       "19                                    2.0                                 1.0   \n",
       "48                                    NaN                                 1.0   \n",
       "79                                    2.0                                 1.0   \n",
       "218                                   NaN                                 2.0   \n",
       "\n",
       "     Type place most often go for healthcare  \\\n",
       "13                                       1.0   \n",
       "19                                       1.0   \n",
       "48                                       1.0   \n",
       "79                                       1.0   \n",
       "218                                      NaN   \n",
       "\n",
       "     Past 12 months had video conf w/Dr?  \\\n",
       "13                                   2.0   \n",
       "19                                   2.0   \n",
       "48                                   2.0   \n",
       "79                                   1.0   \n",
       "218                                  2.0   \n",
       "\n",
       "     Seen mental health professional/past yr  Monthly poverty index  \\\n",
       "13                                       2.0                   0.94   \n",
       "19                                       2.0                   3.28   \n",
       "48                                       2.0                    NaN   \n",
       "79                                       1.0                   5.00   \n",
       "218                                      2.0                    NaN   \n",
       "\n",
       "     Sleep hours - weekdays or workdays  Sleep hours - weekends  PHQ9_TOTAL  \n",
       "13                                  7.5                     7.5        24.0  \n",
       "19                                  8.0                     8.0         8.0  \n",
       "48                                  6.0                     6.0        11.0  \n",
       "79                                  8.5                    13.5        14.0  \n",
       "218                                 6.0                     8.0         8.0  \n",
       "\n",
       "[5 rows x 26 columns]"
      ]
     },
     "execution_count": 9,
     "metadata": {},
     "output_type": "execute_result"
    }
   ],
   "source": [
    "# Display shape and preview first few rows\n",
    "print(\"Final dataset shape:\", df.shape)\n",
    "df.head()\n"
   ]
  },
  {
   "cell_type": "code",
   "execution_count": 10,
   "id": "2f56dd69-e622-4f8d-a984-97d48e08d3c1",
   "metadata": {},
   "outputs": [
    {
     "name": "stdout",
     "output_type": "stream",
     "text": [
      "Missing values detected in the following columns:\n",
      "Education level - Adults 20+                 26\n",
      "Difficulty these problems have caused        71\n",
      "Level of feeling worried/nervous/anxious     19\n",
      "Covered by private insurance                267\n",
      "Covered by Medicare                         336\n",
      "Covered by Medi-Gap                         456\n",
      "Covered by Medicaid                         351\n",
      "Covered by CHIP                             467\n",
      "Covered by military health care             449\n",
      "Covered by state-sponsored health plan      424\n",
      "Covered by other government insurance       467\n",
      "Time when no insurance in past year?         52\n",
      "Type place most often go for healthcare      59\n",
      "Monthly poverty index                        91\n",
      "Sleep hours - weekdays or workdays           10\n",
      "Sleep hours - weekends                       11\n",
      "dtype: int64\n"
     ]
    }
   ],
   "source": [
    "# Identify any remaining missing values\n",
    "missing_summary = df.isna().sum()\n",
    "missing_summary = missing_summary[missing_summary > 0]\n",
    "\n",
    "if not missing_summary.empty:\n",
    "    print(\"Missing values detected in the following columns:\")\n",
    "    print(missing_summary)\n",
    "else:\n",
    "    print(\"No missing values detected.\")\n"
   ]
  },
  {
   "cell_type": "markdown",
   "id": "a9f2f9f7-0036-4da2-88ea-088618126faf",
   "metadata": {},
   "source": [
    "### Export Final Cleaned Dataset\n",
    "\n",
    "The fully cleaned and validated dataset is saved as a CSV file to the `data/clean` directory for use in downstream analysis and modeling.\n"
   ]
  },
  {
   "cell_type": "code",
   "execution_count": 11,
   "id": "231fcf31-992e-420e-9ae6-b3982c718b54",
   "metadata": {},
   "outputs": [
    {
     "name": "stdout",
     "output_type": "stream",
     "text": [
      "Exported cleaned dataset to: data\\clean\\merged_clean.csv\n"
     ]
    }
   ],
   "source": [
    "# Save to data/clean/merged_clean.csv\n",
    "final_output_path = os.path.join(clean_path, \"merged_clean.csv\")\n",
    "df.to_csv(final_output_path, index=False)\n",
    "\n",
    "print(f\"Exported cleaned dataset to: {final_output_path}\")\n"
   ]
  },
  {
   "cell_type": "code",
   "execution_count": null,
   "id": "8a9cb166-ad12-4463-b024-ac9bfc8575bc",
   "metadata": {},
   "outputs": [],
   "source": []
  }
 ],
 "metadata": {
  "kernelspec": {
   "display_name": "Python 3 (ipykernel)",
   "language": "python",
   "name": "python3"
  },
  "language_info": {
   "codemirror_mode": {
    "name": "ipython",
    "version": 3
   },
   "file_extension": ".py",
   "mimetype": "text/x-python",
   "name": "python",
   "nbconvert_exporter": "python",
   "pygments_lexer": "ipython3",
   "version": "3.12.7"
  }
 },
 "nbformat": 4,
 "nbformat_minor": 5
}
